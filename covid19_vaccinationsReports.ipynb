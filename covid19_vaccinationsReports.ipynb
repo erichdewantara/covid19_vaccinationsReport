{
 "cells": [
  {
   "cell_type": "markdown",
   "id": "258bdb7b-ce44-4487-bbae-8b8038f5d69c",
   "metadata": {},
   "source": [
    "## 1. Data Importing"
   ]
  },
  {
   "cell_type": "code",
   "execution_count": null,
   "id": "b0e73dae-e7ee-4cfb-8a7e-cc22ceae5892",
   "metadata": {},
   "outputs": [],
   "source": [
    "import mysql.connector\n",
    "\n",
    "myDB = {\n",
    "    \"user\": input(\"user: \"),\n",
    "    \"password\": input(\"password: \"),\n",
    "    \"host\": input(\"host: \"),\n",
    "    \"buffered\": True\n",
    "}\n",
    "connect = mysql.connector.connect(**myDB)\n",
    "cursor = connect.cursor()"
   ]
  },
  {
   "cell_type": "code",
   "execution_count": null,
   "id": "39287fe0-e84f-4ce0-a5e8-6d5502181d40",
   "metadata": {},
   "outputs": [],
   "source": [
    "# create database\n",
    "cursor.execute(\"CREATE DATABASE vaccinations\")\n",
    "cursor.execute(\"USE vaccinations\")"
   ]
  },
  {
   "cell_type": "code",
   "execution_count": null,
   "id": "f5c9c472-8cc9-4a10-a801-b6be22b1bd64",
   "metadata": {},
   "outputs": [],
   "source": [
    "import pandas as pd\n",
    "df = pd.read_csv(\"covid19_vacc_data.csv\")"
   ]
  },
  {
   "cell_type": "code",
   "execution_count": null,
   "id": "521e39cc-cc80-4b0f-b740-2e6b457d70e9",
   "metadata": {},
   "outputs": [],
   "source": [
    "# create table\n",
    "table = \"vaccination_data\"\n",
    "columns = \", \".join([f\"`{col}` TEXT\" for col in df.columns])\n",
    "create_table_query = f\"CREATE TABLE {table} ({columns})\"\n",
    "cursor.execute(create_table_query)"
   ]
  },
  {
   "cell_type": "code",
   "execution_count": null,
   "id": "f082f6f6-4b86-4b5c-b9c1-f4232a18be68",
   "metadata": {},
   "outputs": [],
   "source": [
    "# insert data from df into table\n",
    "for index, row in df.iterrows():\n",
    "    # replace NaN with NULL\n",
    "    row = row.where(pd.notnull(row), None)\n",
    "    placeholders = \", \".join([\"%s\"] * len(row))\n",
    "    insert_query = f\"INSERT INTO {table} VALUES ({placeholders})\"\n",
    "    cursor.execute(insert_query, tuple(row))\n",
    "\n",
    "connect.commit()"
   ]
  },
  {
   "cell_type": "markdown",
   "id": "87c90546-e7ef-4f44-bb1e-c7d75ca2369f",
   "metadata": {},
   "source": [
    "## 2. Data Cleaning"
   ]
  },
  {
   "cell_type": "code",
   "execution_count": null,
   "id": "188ba5b2-ae79-4a9b-828b-0a3bd87bda02",
   "metadata": {},
   "outputs": [],
   "source": [
    "# update 1: changing rows value where column \"Continent\" is NULL\n",
    "update1 = \"\"\"\n",
    "UPDATE vaccination_data\n",
    "SET continent = CASE\n",
    "\tWHEN location = 'Africa' THEN 'Africa'\n",
    "\tWHEN location = 'Asia' THEN 'Asia'\n",
    "\tWHEN location = 'Europe' THEN 'Europe'\n",
    "\tWHEN location = 'North America' THEN 'North America'\n",
    "\tWHEN location = 'Oceania' THEN 'Oceania'\n",
    "\tWHEN location = 'South America' THEN 'South America'\n",
    "\tWHEN location = 'World' THEN 'World'\n",
    "\tELSE continent\n",
    "END\n",
    "\"\"\"\n",
    "\n",
    "cursor.execute(update1)\n",
    "connect.commit()"
   ]
  },
  {
   "cell_type": "code",
   "execution_count": null,
   "id": "b5bff159-1cd0-45b7-a461-6dbbbc520983",
   "metadata": {},
   "outputs": [],
   "source": [
    "# update 2: Countries with incorrect international names\n",
    "update2 = \"\"\"\n",
    "UPDATE vaccination_data\n",
    "SET location = CASE\n",
    "\tWHEN location = 'Sint Maarten (Dutch part)' THEN 'Sint Maarten'\n",
    "\tWHEN location = 'Micronesia (country)' THEN 'Micronesia'\n",
    "\tELSE location\n",
    "END\n",
    "\"\"\"\n",
    "\n",
    "cursor.execute(update2)\n",
    "connect.commit()"
   ]
  },
  {
   "cell_type": "code",
   "execution_count": null,
   "id": "6f830eb5-eead-485c-b95f-af97e5c2a74b",
   "metadata": {},
   "outputs": [],
   "source": [
    "# selecting necessary data for visualization\n",
    "\"\"\"\n",
    "note that the lists excluding sovereign nations or individual countries that\n",
    "are not part of islands, regions, or territories\n",
    "\"\"\"\n",
    "\n",
    "data = \"\"\"\n",
    "SELECT distinct location AS geo_entity, continent,\n",
    "\tCAST(date AS date) AS date,\n",
    "\tCAST(population AS signed) AS population,\n",
    "\tCAST(gdp_per_capita AS float) AS gdp_per_capita,\n",
    "\tCAST(people_vaccinated AS signed) AS people_vaccinated,\n",
    "\tCAST(people_fully_vaccinated AS signed) AS people_fully_vaccinated,\n",
    "\tCAST(total_vaccinations_per_hundred AS float) AS total_vaccination_per_hundred\n",
    "FROM vaccination_data\n",
    "WHERE location is not null\n",
    "\tAND location not in('England', 'European Union', 'High income', 'Lower middle income',\n",
    "\t'Low income', 'Northern Ireland', 'Scotland', 'Upper middle income', 'Wales',\n",
    "\t'French Guiana', 'Mayotte', 'Guam', 'Saint Pierre and Miquelon', 'Puerto Rico',\n",
    "\t'Martinique', 'Saint Barthelemy', 'Northern Mariana Islands', 'Western Sahara',\n",
    "\t'Guadeloupe', 'United States Virgin Islands', 'Saint Martin (French part)', 'Reunion',\n",
    "\t'American Samoa', 'Northern Cyprus')\n",
    "\tAND date is not null\n",
    "ORDER BY location, date\n",
    "\"\"\"\n",
    "\n",
    "cursor.execute(data)\n",
    "result = cursor.fetchall()\n",
    "\n",
    "columns = [desc[0] for desc in cursor.description]\n",
    "df = pd.DataFrame(result, columns=columns)"
   ]
  },
  {
   "cell_type": "markdown",
   "id": "6caaafad-1141-44ab-aec4-457ed06765b1",
   "metadata": {},
   "source": [
    "## 2.5. Saving Data"
   ]
  },
  {
   "cell_type": "code",
   "execution_count": null,
   "id": "49057466-28b4-4ffd-8021-1c3eeb139356",
   "metadata": {},
   "outputs": [],
   "source": [
    "df.to_csv(\"covid19_vacc_data_clean.csv\", index=False)"
   ]
  },
  {
   "cell_type": "markdown",
   "id": "02d25a18-107d-4129-8fb6-4181589d506d",
   "metadata": {},
   "source": [
    "## 3. Visualization Dashboard"
   ]
  },
  {
   "cell_type": "markdown",
   "id": "74136e34-95a9-4420-b364-ca138a7f61c9",
   "metadata": {},
   "source": [
    "Here I use *Tableau* for the dashboard\n"
   ]
  },
  {
   "cell_type": "code",
   "execution_count": null,
   "id": "8971861c-d657-4f05-9739-492d67afb4f6",
   "metadata": {},
   "outputs": [],
   "source": [
    "import webbrowser\n",
    "\n",
    "url = \"https://public.tableau.com/app/profile/erich.dewantara/viz/GlobalCovid-19Vaccinations_16993772434440/VaccinationDashboard\"\n",
    "webbrowser.open(url)"
   ]
  }
 ],
 "metadata": {
  "kernelspec": {
   "display_name": "Python 3 (ipykernel)",
   "language": "python",
   "name": "python3"
  },
  "language_info": {
   "codemirror_mode": {
    "name": "ipython",
    "version": 3
   },
   "file_extension": ".py",
   "mimetype": "text/x-python",
   "name": "python",
   "nbconvert_exporter": "python",
   "pygments_lexer": "ipython3",
   "version": "3.12.4"
  }
 },
 "nbformat": 4,
 "nbformat_minor": 5
}
